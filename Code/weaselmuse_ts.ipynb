{
 "cells": [
  {
   "cell_type": "code",
   "execution_count": 1,
   "metadata": {},
   "outputs": [],
   "source": [
    "from sktime.datasets import load_from_tsfile\n",
    "import os\n",
    "import numpy as np"
   ]
  },
  {
   "cell_type": "code",
   "execution_count": 2,
   "metadata": {},
   "outputs": [
    {
     "data": {
      "text/plain": [
       "PosixPath('/Users/mojtabaaskarzadeh/Library/CloudStorage/GoogleDrive-ma00048@mix.wvu.edu/My Drive/1-time-series classification in manufacturing/Code')"
      ]
     },
     "execution_count": 2,
     "metadata": {},
     "output_type": "execute_result"
    }
   ],
   "source": [
    "### get current path\n",
    "from pathlib import Path\n",
    "path = Path.cwd()\n",
    "path"
   ]
  },
  {
   "cell_type": "code",
   "execution_count": 3,
   "metadata": {},
   "outputs": [],
   "source": [
    "path_dir = '/Users/mojtabaaskarzadeh/Library/CloudStorage/GoogleDrive-ma00048@mix.wvu.edu/My Drive/1-time-series classification in manufacturing/Datasets'"
   ]
  },
  {
   "cell_type": "code",
   "execution_count": 4,
   "metadata": {},
   "outputs": [
    {
     "name": "stdout",
     "output_type": "stream",
     "text": [
      "HandMovementDirection\n"
     ]
    }
   ],
   "source": [
    "archive = 'HandMovementDirection'\n",
    "print(archive)"
   ]
  },
  {
   "cell_type": "code",
   "execution_count": 5,
   "metadata": {},
   "outputs": [
    {
     "data": {
      "text/plain": [
       "'/Users/mojtabaaskarzadeh/Library/CloudStorage/GoogleDrive-ma00048@mix.wvu.edu/My Drive/1-time-series classification in manufacturing/Datasets/HandMovementDirection'"
      ]
     },
     "execution_count": 5,
     "metadata": {},
     "output_type": "execute_result"
    }
   ],
   "source": [
    "PATH = os.path.join(path_dir,archive)\n",
    "PATH"
   ]
  },
  {
   "cell_type": "code",
   "execution_count": 6,
   "metadata": {},
   "outputs": [
    {
     "data": {
      "text/plain": [
       "((160, 10, 400), (160,), (74, 10, 400), (74,))"
      ]
     },
     "execution_count": 6,
     "metadata": {},
     "output_type": "execute_result"
    }
   ],
   "source": [
    "X_train, y_train = load_from_tsfile(os.path.join(PATH, f\"{archive}_TRAIN.ts\"), return_data_type=\"numpy3d\")\n",
    "X_test, y_test = load_from_tsfile(os.path.join(PATH, f\"{archive}_TEST.ts\"), return_data_type=\"numpy3d\")\n",
    "X_train.shape, y_train.shape, X_test.shape, y_test.shape"
   ]
  },
  {
   "cell_type": "code",
   "execution_count": 7,
   "metadata": {},
   "outputs": [
    {
     "name": "stdout",
     "output_type": "stream",
     "text": [
      "\n",
      " The dataset shape is:(234, 10, 400)\n",
      "\n",
      " The number of data samples (N) is:234\n",
      "\n",
      " The number of TS length (T) is:10\n",
      "\n",
      " The number of TS dimention (M) is:400\n"
     ]
    }
   ],
   "source": [
    "ts = np.concatenate((X_train, X_test), axis=0)\n",
    "print(f\"\\n The dataset shape is:{ts.shape}\")\n",
    "print(f\"\\n The number of data samples (N) is:{ts.shape[0]}\")\n",
    "print(f\"\\n The number of TS length (T) is:{ts.shape[1]}\")\n",
    "print(f\"\\n The number of TS dimention (M) is:{ts.shape[2]}\")"
   ]
  },
  {
   "cell_type": "code",
   "execution_count": 8,
   "metadata": {},
   "outputs": [],
   "source": [
    "import sktime\n",
    "import os\n",
    "import numpy as np\n",
    "import argparse\n",
    "import time"
   ]
  },
  {
   "cell_type": "code",
   "execution_count": 9,
   "metadata": {},
   "outputs": [
    {
     "name": "stdout",
     "output_type": "stream",
     "text": [
      "Multivariate Time-series. Using MUSE\n"
     ]
    },
    {
     "name": "stderr",
     "output_type": "stream",
     "text": [
      "/Library/Frameworks/Python.framework/Versions/3.9/lib/python3.9/site-packages/sklearn/linear_model/_base.py:148: FutureWarning: 'normalize' was deprecated in version 1.0 and will be removed in 1.2. Please leave the normalize parameter to its default value to silence this warning. The default behavior of this estimator is to not do any normalization. If normalization is needed please use sklearn.preprocessing.StandardScaler instead.\n",
      "  warnings.warn(\n"
     ]
    },
    {
     "name": "stdout",
     "output_type": "stream",
     "text": [
      "\n",
      " The classifier is fitted\n",
      "[[ 4  3  3  5]\n",
      " [ 9 10  4  7]\n",
      " [ 4  5  5  1]\n",
      " [ 2  3  2  7]]\n",
      "              precision    recall  f1-score   support\n",
      "\n",
      "    backward       0.21      0.27      0.24        15\n",
      "     forward       0.48      0.33      0.39        30\n",
      "        left       0.36      0.33      0.34        15\n",
      "       right       0.35      0.50      0.41        14\n",
      "\n",
      "    accuracy                           0.35        74\n",
      "   macro avg       0.35      0.36      0.35        74\n",
      "weighted avg       0.37      0.35      0.35        74\n",
      "\n",
      " Finished!\n",
      "the f1 score is:0.3460108181203516\n",
      "Total time elapsed: 60.7542s\n"
     ]
    }
   ],
   "source": [
    "## Classification\n",
    "from sktime.classification.dictionary_based import MUSE\n",
    "from sktime.classification.dictionary_based import WEASEL\n",
    "\n",
    "\n",
    "t_total = time.time() ##Start timing\n",
    "\n",
    "if ts.shape[2] == 1:\n",
    "    print('Univariate Time-series. Using WEASEL')\n",
    "    classifier = WEASEL(n_jobs=1, window_inc=4)\n",
    "else:\n",
    "    print('Multivariate Time-series. Using MUSE')\n",
    "    classifier = MUSE(alphabet_size=2, n_jobs=-1, use_first_order_differences=True)\n",
    "\n",
    "classifier.fit(X_train, y_train)\n",
    "\n",
    "print(\"\\n The classifier is fitted\")\n",
    "y_pred = classifier.predict(X_test)\n",
    "\n",
    "from sklearn.metrics import confusion_matrix, classification_report,f1_score\n",
    "\n",
    "cm = confusion_matrix(y_test, y_pred)\n",
    "print(cm)\n",
    "print(classification_report(y_test, y_pred))\n",
    "\n",
    "print(\" Finished!\")\n",
    "F1 = f1_score(y_test, y_pred, average='macro')\n",
    "print(f\"the f1 score is:{F1}\")\n",
    "\n",
    "print(\"Total time elapsed: {:.4f}s\".format(time.time() - t_total))"
   ]
  }
 ],
 "metadata": {
  "kernelspec": {
   "display_name": "Python 3.9.6 64-bit",
   "language": "python",
   "name": "python3"
  },
  "language_info": {
   "codemirror_mode": {
    "name": "ipython",
    "version": 3
   },
   "file_extension": ".py",
   "mimetype": "text/x-python",
   "name": "python",
   "nbconvert_exporter": "python",
   "pygments_lexer": "ipython3",
   "version": "3.9.6"
  },
  "orig_nbformat": 4,
  "vscode": {
   "interpreter": {
    "hash": "aee8b7b246df8f9039afb4144a1f6fd8d2ca17a180786b69acc140d282b71a49"
   }
  }
 },
 "nbformat": 4,
 "nbformat_minor": 2
}
